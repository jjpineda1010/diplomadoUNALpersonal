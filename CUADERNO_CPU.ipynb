{
  "nbformat": 4,
  "nbformat_minor": 0,
  "metadata": {
    "colab": {
      "name": "CUADERNO CPU.ipynb",
      "provenance": [],
      "collapsed_sections": [],
      "toc_visible": true
    },
    "kernelspec": {
      "name": "python3",
      "display_name": "Python 3"
    }
  },
  "cells": [
    {
      "cell_type": "markdown",
      "metadata": {
        "id": "dEZUQheNEwa6"
      },
      "source": [
        "#CUADERNO CPU"
      ]
    },
    {
      "cell_type": "markdown",
      "metadata": {
        "id": "eCw7l_NYEsOA"
      },
      "source": [
        "#Función para leer el set de datos"
      ]
    },
    {
      "cell_type": "code",
      "metadata": {
        "id": "TXLcQtolG3rs"
      },
      "source": [
        "import numpy as np\r\n",
        "import os\r\n",
        "import gzip\r\n",
        "\r\n",
        "def cargar_set(ruta, tipo='train'):\r\n",
        "\r\n",
        "  ruta_categorias=os.path.join(ruta, '%s-labels-idx1-ubyte.gz' %tipo)\r\n",
        "  ruta_imagenes = os.path.join(ruta, '%s-images-idx3-ubyte.gz' %tipo)\r\n",
        "  with gzip.open(ruta_categorias, 'rb') as rut_cat:\r\n",
        "      etiquetas = np.frombuffer(rut_cat.read(), dtype=np.uint8, offset=8)\r\n",
        "  with gzip.open(ruta_imagenes, 'rb') as rut_imgs:\r\n",
        "    imagenes = np.frombuffer(rut_imgs.read(), dtype=np.uint8, offset = 16).reshape(len(etiquetas), 784)\r\n",
        "  return imagenes, etiquetas\r\n"
      ],
      "execution_count": 15,
      "outputs": []
    },
    {
      "cell_type": "markdown",
      "metadata": {
        "id": "pCbbQntQKPRb"
      },
      "source": [
        "#Acceso a Google Drive"
      ]
    },
    {
      "cell_type": "code",
      "metadata": {
        "colab": {
          "base_uri": "https://localhost:8080/"
        },
        "id": "8FRAJZ-zJoIj",
        "outputId": "a8bcc2fc-6998-4abb-c8f3-d94e68817895"
      },
      "source": [
        "from google.colab import drive\r\n",
        "drive.mount('/content/gdrive')\r\n",
        "ruta = '/content/gdrive/MyDrive/Diplomado/Entendiendo Google-Colab/2. Entendiendo Google Colab/fashion_mnist_data'\r\n",
        "\r\n",
        "X_train, Y_train = cargar_set(ruta, tipo= 'train')\r\n",
        "X_test, Y_test = cargar_set(ruta, tipo= 'test')"
      ],
      "execution_count": 16,
      "outputs": [
        {
          "output_type": "stream",
          "text": [
            "Drive already mounted at /content/gdrive; to attempt to forcibly remount, call drive.mount(\"/content/gdrive\", force_remount=True).\n"
          ],
          "name": "stdout"
        }
      ]
    },
    {
      "cell_type": "markdown",
      "metadata": {
        "id": "uoZI2bBvW__8"
      },
      "source": [
        "#Reajustar el tamaño de los datos"
      ]
    },
    {
      "cell_type": "code",
      "metadata": {
        "id": "UkxOrLjTRN2x"
      },
      "source": [
        "#La arquitectura TPU recibe datos con tamaños multiplos de 128.\r\n",
        "\r\n",
        "X_train = X_train[0:59904,:]\r\n",
        "X_test = X_test[0:9984,:]\r\n",
        "\r\n",
        "Y_train = Y_train[0:59904]\r\n",
        "Y_test = Y_test[0:9984]\r\n",
        "\r\n",
        "X_train = np.reshape(X_train, (59904,28,28,1))\r\n",
        "X_test = np.reshape(X_test, (9984,28,28,1))"
      ],
      "execution_count": 20,
      "outputs": []
    },
    {
      "cell_type": "code",
      "metadata": {
        "id": "-yDJ8DTOXaz8"
      },
      "source": [
        ""
      ],
      "execution_count": null,
      "outputs": []
    },
    {
      "cell_type": "markdown",
      "metadata": {
        "id": "kYP3ETibX_wQ"
      },
      "source": [
        "#Importar Tensorflow 2 (ya incluye keras)"
      ]
    },
    {
      "cell_type": "code",
      "metadata": {
        "colab": {
          "base_uri": "https://localhost:8080/"
        },
        "id": "Eio2rnR0YHhI",
        "outputId": "f15359ac-cdf6-4ab9-82d0-87158e038acb"
      },
      "source": [
        "%tensorflow_version 2.x\r\n",
        "import tensorflow as tf\r\n",
        "\r\n",
        "print('Versión de Tensorflow: ' + tf.__version__)"
      ],
      "execution_count": 23,
      "outputs": [
        {
          "output_type": "stream",
          "text": [
            "Versión de Tensorflow: 2.4.1\n"
          ],
          "name": "stdout"
        }
      ]
    },
    {
      "cell_type": "code",
      "metadata": {
        "id": "73r2NmtqYZ_P"
      },
      "source": [
        ""
      ],
      "execution_count": null,
      "outputs": []
    },
    {
      "cell_type": "markdown",
      "metadata": {
        "id": "L7Mh9DkQYouO"
      },
      "source": [
        "#Modelo"
      ]
    },
    {
      "cell_type": "code",
      "metadata": {
        "colab": {
          "base_uri": "https://localhost:8080/"
        },
        "id": "JJEBMI2QYp3t",
        "outputId": "a67f3b2c-97c9-4990-a187-ce028546cbc3"
      },
      "source": [
        "tf.random.set_seed(200)\r\n",
        "\r\n",
        "modelo = tf.keras.models.Sequential()\r\n",
        "\r\n",
        "modelo.add(tf.keras.layers.BatchNormalization(input_shape = X_train.shape[1:]))\r\n",
        "modelo.add(tf.keras.layers.Conv2D(64,(5,5),padding='same',activation='elu'))\r\n",
        "modelo.add(tf.keras.layers.MaxPooling2D(pool_size=(2,2), strides=(2,2)))\r\n",
        "modelo.add(tf.keras.layers.Dropout(0.25)) #reduccion del overfitting del modelo\r\n",
        "\r\n",
        "modelo.add(tf.keras.layers.BatchNormalization(input_shape = X_train.shape[1:]))\r\n",
        "modelo.add(tf.keras.layers.Conv2D(128,(5,5),padding='same',activation='elu'))\r\n",
        "modelo.add(tf.keras.layers.MaxPooling2D(pool_size=(2,2), strides=(2,2)))\r\n",
        "modelo.add(tf.keras.layers.Dropout(0.25))\r\n",
        "\r\n",
        "modelo.add(tf.keras.layers.BatchNormalization(input_shape = X_train.shape[1:]))\r\n",
        "modelo.add(tf.keras.layers.Conv2D(256,(5,5),padding='same',activation='elu'))\r\n",
        "modelo.add(tf.keras.layers.MaxPooling2D(pool_size=(2,2), strides=(2,2)))\r\n",
        "modelo.add(tf.keras.layers.Dropout(0.25))\r\n",
        "\r\n",
        "#Aplanar los datos\r\n",
        "modelo.add(tf.keras.layers.Flatten())\r\n",
        "modelo.add(tf.keras.layers.Dense(256)) #256 neuronas\r\n",
        "modelo.add(tf.keras.layers.Activation('elu'))\r\n",
        "modelo.add(tf.keras.layers.Dropout(0.5))\r\n",
        "modelo.add(tf.keras.layers.Dense(10)) #Neuronas de salida\r\n",
        "modelo.add(tf.keras.layers.Activation('softmax'))\r\n",
        "\r\n",
        "#imprimir en pantalla información del modelo\r\n",
        "modelo.summary()"
      ],
      "execution_count": 26,
      "outputs": [
        {
          "output_type": "stream",
          "text": [
            "Model: \"sequential\"\n",
            "_________________________________________________________________\n",
            "Layer (type)                 Output Shape              Param #   \n",
            "=================================================================\n",
            "batch_normalization (BatchNo (None, 28, 28, 1)         4         \n",
            "_________________________________________________________________\n",
            "conv2d (Conv2D)              (None, 28, 28, 64)        1664      \n",
            "_________________________________________________________________\n",
            "max_pooling2d (MaxPooling2D) (None, 14, 14, 64)        0         \n",
            "_________________________________________________________________\n",
            "dropout (Dropout)            (None, 14, 14, 64)        0         \n",
            "_________________________________________________________________\n",
            "batch_normalization_1 (Batch (None, 14, 14, 64)        256       \n",
            "_________________________________________________________________\n",
            "conv2d_1 (Conv2D)            (None, 14, 14, 128)       204928    \n",
            "_________________________________________________________________\n",
            "max_pooling2d_1 (MaxPooling2 (None, 7, 7, 128)         0         \n",
            "_________________________________________________________________\n",
            "dropout_1 (Dropout)          (None, 7, 7, 128)         0         \n",
            "_________________________________________________________________\n",
            "batch_normalization_2 (Batch (None, 7, 7, 128)         512       \n",
            "_________________________________________________________________\n",
            "conv2d_2 (Conv2D)            (None, 7, 7, 256)         819456    \n",
            "_________________________________________________________________\n",
            "max_pooling2d_2 (MaxPooling2 (None, 3, 3, 256)         0         \n",
            "_________________________________________________________________\n",
            "dropout_2 (Dropout)          (None, 3, 3, 256)         0         \n",
            "_________________________________________________________________\n",
            "flatten (Flatten)            (None, 2304)              0         \n",
            "_________________________________________________________________\n",
            "dense (Dense)                (None, 256)               590080    \n",
            "_________________________________________________________________\n",
            "activation (Activation)      (None, 256)               0         \n",
            "_________________________________________________________________\n",
            "dropout_3 (Dropout)          (None, 256)               0         \n",
            "_________________________________________________________________\n",
            "dense_1 (Dense)              (None, 10)                2570      \n",
            "_________________________________________________________________\n",
            "activation_1 (Activation)    (None, 10)                0         \n",
            "=================================================================\n",
            "Total params: 1,619,470\n",
            "Trainable params: 1,619,084\n",
            "Non-trainable params: 386\n",
            "_________________________________________________________________\n"
          ],
          "name": "stdout"
        }
      ]
    },
    {
      "cell_type": "markdown",
      "metadata": {
        "id": "8Y0BWHUubdyn"
      },
      "source": [
        "# Entrenamiento de CPU\r\n",
        "\r\n",
        "\r\n"
      ]
    },
    {
      "cell_type": "code",
      "metadata": {
        "id": "gu5moOWRa0r5"
      },
      "source": [
        "modelo.compile(optimizer='adam',loss='sparse_categorical_crossentropy',metrics=['accuracy'])"
      ],
      "execution_count": 27,
      "outputs": []
    },
    {
      "cell_type": "code",
      "metadata": {
        "colab": {
          "base_uri": "https://localhost:8080/"
        },
        "id": "eyT5C8FgbciU",
        "outputId": "e411fa7c-1a1d-4a17-903a-f41a5eb49e1a"
      },
      "source": [
        "import timeit\r\n",
        "\r\n",
        "def entrenamiento_cpu():\r\n",
        "  with tf.device('/cpu:0'):\r\n",
        "    modelo.fit(X_train,Y_train, validation_data=(X_test,Y_test),batch_size=128, epochs=2,verbose=1)\r\n",
        "\r\n",
        "    return None\r\n",
        "\r\n",
        "cpu_time =timeit.timeit('entrenamiento_cpu()',number=1, setup = 'from __main__ import entrenamiento_cpu')\r\n"
      ],
      "execution_count": 28,
      "outputs": [
        {
          "output_type": "stream",
          "text": [
            "Epoch 1/2\n",
            "468/468 [==============================] - 685s 1s/step - loss: 1.0169 - accuracy: 0.7078 - val_loss: 0.4264 - val_accuracy: 0.8551\n",
            "Epoch 2/2\n",
            "468/468 [==============================] - 683s 1s/step - loss: 0.4105 - accuracy: 0.8562 - val_loss: 0.3127 - val_accuracy: 0.8922\n"
          ],
          "name": "stdout"
        }
      ]
    },
    {
      "cell_type": "code",
      "metadata": {
        "colab": {
          "base_uri": "https://localhost:8080/"
        },
        "id": "zuL04oo-crHV",
        "outputId": "f6c7bcee-cef2-49d5-bdeb-ccb7c2cdef96"
      },
      "source": [
        "print('Tiempo de entrenamiento '+str(cpu_time) + ' segundos')"
      ],
      "execution_count": 29,
      "outputs": [
        {
          "output_type": "stream",
          "text": [
            "Tiempo de entrenamiento 1368.6541898260002 segundos\n"
          ],
          "name": "stdout"
        }
      ]
    },
    {
      "cell_type": "code",
      "metadata": {
        "id": "DF96ZiFBi9HG"
      },
      "source": [
        ""
      ],
      "execution_count": null,
      "outputs": []
    }
  ]
}