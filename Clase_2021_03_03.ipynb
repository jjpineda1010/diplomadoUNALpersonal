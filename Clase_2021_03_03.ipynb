{
 "cells": [
  {
   "cell_type": "code",
   "execution_count": null,
   "metadata": {
    "id": "HV_W7wgYbk7S"
   },
   "outputs": [],
   "source": []
  },
  {
   "cell_type": "markdown",
   "metadata": {
    "id": "5svPjIZfdrXY"
   },
   "source": [
    "# Clase Miércoles 2021-03-03\r\n",
    "\r\n"
   ]
  },
  {
   "cell_type": "markdown",
   "metadata": {
    "id": "A4ll30ijj0bm"
   },
   "source": [
    "## comandos iniciales en cobal\r\n",
    "### Titulo 3\r\n",
    "\r\n",
    "[Compra aquí](https://librerianacional.com/producto/la-nostalgia-del-melomano)\r\n",
    "\r\n",
    "[Aprender markdown](https://www.markdownguide.org/basic-syntax/)\r\n",
    "\r\n",
    "[video de clase](https://www.youtube.com/watch?v=YfRy9j1E0Qk)\r\n",
    "\r\n",
    "*cursiva*\r\n",
    "\r\n",
    "**Negrita**\r\n",
    "\r\n"
   ]
  },
  {
   "cell_type": "markdown",
   "metadata": {
    "id": "tG_ZMherlx9A"
   },
   "source": [
    "#Lenguaje LaTeX"
   ]
  },
  {
   "cell_type": "markdown",
   "metadata": {
    "id": "_iRhyGj-l02C"
   },
   "source": [
    "Se usa para colocar ecuaciones matemáticas de forma profesional...\r\n",
    "Es el lenguaje estándar usando por la mayoría de los científicos en el mundo.\r\n",
    "\r\n",
    "$$y=x^2$$\r\n",
    "$$\\frac{dC}{dt}=kC$$\r\n",
    "\r\n",
    "[Calculadora para escribir formulas en LaTeX](https://www.codecogs.com/latex/eqneditor.php)"
   ]
  },
  {
   "cell_type": "code",
   "execution_count": 2,
   "metadata": {
    "colab": {
     "base_uri": "https://localhost:8080/"
    },
    "id": "4AmqooKVmKiO",
    "outputId": "d6e4150a-3166-41d7-e939-239cdf40f622"
   },
   "outputs": [
    {
     "name": "stdout",
     "output_type": "stream",
     "text": [
      "Hola!\n"
     ]
    }
   ],
   "source": [
    "print(\"Hola!\")"
   ]
  },
  {
   "cell_type": "code",
   "execution_count": 2,
   "metadata": {
    "id": "7d0uMOdyoMF4"
   },
   "outputs": [],
   "source": [
    "y=2+2*19/4"
   ]
  },
  {
   "cell_type": "code",
   "execution_count": 3,
   "metadata": {},
   "outputs": [
    {
     "name": "stdout",
     "output_type": "stream",
     "text": [
      "11.5\n"
     ]
    }
   ],
   "source": [
    "print(y)"
   ]
  },
  {
   "cell_type": "code",
   "execution_count": null,
   "metadata": {},
   "outputs": [],
   "source": []
  }
 ],
 "metadata": {
  "colab": {
   "name": "Clase_2021_03_03.ipynb",
   "provenance": []
  },
  "kernelspec": {
   "display_name": "Python 3",
   "language": "python",
   "name": "python3"
  },
  "language_info": {
   "codemirror_mode": {
    "name": "ipython",
    "version": 3
   },
   "file_extension": ".py",
   "mimetype": "text/x-python",
   "name": "python",
   "nbconvert_exporter": "python",
   "pygments_lexer": "ipython3",
   "version": "3.8.5"
  }
 },
 "nbformat": 4,
 "nbformat_minor": 4
}
