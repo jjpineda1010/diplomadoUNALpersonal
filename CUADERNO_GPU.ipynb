{
  "nbformat": 4,
  "nbformat_minor": 0,
  "metadata": {
    "colab": {
      "name": "CUADERNO GPU.ipynb",
      "provenance": [],
      "collapsed_sections": [],
      "toc_visible": true
    },
    "kernelspec": {
      "name": "python3",
      "display_name": "Python 3"
    },
    "accelerator": "GPU"
  },
  "cells": [
    {
      "cell_type": "markdown",
      "metadata": {
        "id": "dEZUQheNEwa6"
      },
      "source": [
        "#CUADERNO GPU"
      ]
    },
    {
      "cell_type": "markdown",
      "metadata": {
        "id": "eCw7l_NYEsOA"
      },
      "source": [
        "#Función para leer el set de datos"
      ]
    },
    {
      "cell_type": "code",
      "metadata": {
        "id": "TXLcQtolG3rs"
      },
      "source": [
        "import numpy as np\r\n",
        "import os\r\n",
        "import gzip\r\n",
        "\r\n",
        "def cargar_set(ruta, tipo='train'):\r\n",
        "\r\n",
        "  ruta_categorias=os.path.join(ruta, '%s-labels-idx1-ubyte.gz' %tipo)\r\n",
        "  ruta_imagenes = os.path.join(ruta, '%s-images-idx3-ubyte.gz' %tipo)\r\n",
        "  with gzip.open(ruta_categorias, 'rb') as rut_cat:\r\n",
        "      etiquetas = np.frombuffer(rut_cat.read(), dtype=np.uint8, offset=8)\r\n",
        "  with gzip.open(ruta_imagenes, 'rb') as rut_imgs:\r\n",
        "    imagenes = np.frombuffer(rut_imgs.read(), dtype=np.uint8, offset = 16).reshape(len(etiquetas), 784)\r\n",
        "  return imagenes, etiquetas\r\n"
      ],
      "execution_count": 2,
      "outputs": []
    },
    {
      "cell_type": "markdown",
      "metadata": {
        "id": "pCbbQntQKPRb"
      },
      "source": [
        "#Acceso a Google Drive"
      ]
    },
    {
      "cell_type": "code",
      "metadata": {
        "colab": {
          "base_uri": "https://localhost:8080/"
        },
        "id": "8FRAJZ-zJoIj",
        "outputId": "37d0157e-885f-4b57-8823-4cff33bf1485"
      },
      "source": [
        "from google.colab import drive\r\n",
        "drive.mount('/content/gdrive')\r\n",
        "ruta = '/content/gdrive/MyDrive/Diplomado/Entendiendo Google-Colab/2. Entendiendo Google Colab/fashion_mnist_data'\r\n",
        "\r\n",
        "X_train, Y_train = cargar_set(ruta, tipo= 'train')\r\n",
        "X_test, Y_test = cargar_set(ruta, tipo= 'test')"
      ],
      "execution_count": 3,
      "outputs": [
        {
          "output_type": "stream",
          "text": [
            "Mounted at /content/gdrive\n"
          ],
          "name": "stdout"
        }
      ]
    },
    {
      "cell_type": "markdown",
      "metadata": {
        "id": "uoZI2bBvW__8"
      },
      "source": [
        "#Reajustar el tamaño de los datos"
      ]
    },
    {
      "cell_type": "code",
      "metadata": {
        "id": "UkxOrLjTRN2x"
      },
      "source": [
        "#La arquitectura TPU recibe datos con tamaños multiplos de 128.\r\n",
        "\r\n",
        "X_train = X_train[0:59904,:]\r\n",
        "X_test = X_test[0:9984,:]\r\n",
        "\r\n",
        "Y_train = Y_train[0:59904]\r\n",
        "Y_test = Y_test[0:9984]\r\n",
        "\r\n",
        "X_train = np.reshape(X_train, (59904,28,28,1))\r\n",
        "X_test = np.reshape(X_test, (9984,28,28,1))"
      ],
      "execution_count": 4,
      "outputs": []
    },
    {
      "cell_type": "code",
      "metadata": {
        "id": "-yDJ8DTOXaz8"
      },
      "source": [
        ""
      ],
      "execution_count": null,
      "outputs": []
    },
    {
      "cell_type": "markdown",
      "metadata": {
        "id": "kYP3ETibX_wQ"
      },
      "source": [
        "#Importar Tensorflow 2 (ya incluye keras)"
      ]
    },
    {
      "cell_type": "code",
      "metadata": {
        "colab": {
          "base_uri": "https://localhost:8080/"
        },
        "id": "Eio2rnR0YHhI",
        "outputId": "5e35785c-b85e-4e49-b593-7fb26983ad9d"
      },
      "source": [
        "%tensorflow_version 2.x\r\n",
        "import tensorflow as tf\r\n",
        "\r\n",
        "print('Versión de Tensorflow: ' + tf.__version__)"
      ],
      "execution_count": 5,
      "outputs": [
        {
          "output_type": "stream",
          "text": [
            "Versión de Tensorflow: 2.4.1\n"
          ],
          "name": "stdout"
        }
      ]
    },
    {
      "cell_type": "code",
      "metadata": {
        "id": "73r2NmtqYZ_P"
      },
      "source": [
        ""
      ],
      "execution_count": null,
      "outputs": []
    },
    {
      "cell_type": "markdown",
      "metadata": {
        "id": "L7Mh9DkQYouO"
      },
      "source": [
        "#Modelo"
      ]
    },
    {
      "cell_type": "code",
      "metadata": {
        "colab": {
          "base_uri": "https://localhost:8080/"
        },
        "id": "JJEBMI2QYp3t",
        "outputId": "0aa561d9-942e-48e7-9f5e-d746d2d40b0d"
      },
      "source": [
        "tf.random.set_seed(200)\r\n",
        "\r\n",
        "modelo = tf.keras.models.Sequential()\r\n",
        "\r\n",
        "modelo.add(tf.keras.layers.BatchNormalization(input_shape = X_train.shape[1:]))\r\n",
        "modelo.add(tf.keras.layers.Conv2D(64,(5,5),padding='same',activation='elu'))\r\n",
        "modelo.add(tf.keras.layers.MaxPooling2D(pool_size=(2,2), strides=(2,2)))\r\n",
        "modelo.add(tf.keras.layers.Dropout(0.25)) #reduccion del overfitting del modelo\r\n",
        "\r\n",
        "modelo.add(tf.keras.layers.BatchNormalization(input_shape = X_train.shape[1:]))\r\n",
        "modelo.add(tf.keras.layers.Conv2D(128,(5,5),padding='same',activation='elu'))\r\n",
        "modelo.add(tf.keras.layers.MaxPooling2D(pool_size=(2,2), strides=(2,2)))\r\n",
        "modelo.add(tf.keras.layers.Dropout(0.25))\r\n",
        "\r\n",
        "modelo.add(tf.keras.layers.BatchNormalization(input_shape = X_train.shape[1:]))\r\n",
        "modelo.add(tf.keras.layers.Conv2D(256,(5,5),padding='same',activation='elu'))\r\n",
        "modelo.add(tf.keras.layers.MaxPooling2D(pool_size=(2,2), strides=(2,2)))\r\n",
        "modelo.add(tf.keras.layers.Dropout(0.25))\r\n",
        "\r\n",
        "#Aplanar los datos\r\n",
        "modelo.add(tf.keras.layers.Flatten())\r\n",
        "modelo.add(tf.keras.layers.Dense(256)) #256 neuronas\r\n",
        "modelo.add(tf.keras.layers.Activation('elu'))\r\n",
        "modelo.add(tf.keras.layers.Dropout(0.5))\r\n",
        "modelo.add(tf.keras.layers.Dense(10)) #Neuronas de salida\r\n",
        "modelo.add(tf.keras.layers.Activation('softmax'))\r\n",
        "\r\n",
        "#imprimir en pantalla información del modelo\r\n",
        "modelo.summary()"
      ],
      "execution_count": 6,
      "outputs": [
        {
          "output_type": "stream",
          "text": [
            "Model: \"sequential\"\n",
            "_________________________________________________________________\n",
            "Layer (type)                 Output Shape              Param #   \n",
            "=================================================================\n",
            "batch_normalization (BatchNo (None, 28, 28, 1)         4         \n",
            "_________________________________________________________________\n",
            "conv2d (Conv2D)              (None, 28, 28, 64)        1664      \n",
            "_________________________________________________________________\n",
            "max_pooling2d (MaxPooling2D) (None, 14, 14, 64)        0         \n",
            "_________________________________________________________________\n",
            "dropout (Dropout)            (None, 14, 14, 64)        0         \n",
            "_________________________________________________________________\n",
            "batch_normalization_1 (Batch (None, 14, 14, 64)        256       \n",
            "_________________________________________________________________\n",
            "conv2d_1 (Conv2D)            (None, 14, 14, 128)       204928    \n",
            "_________________________________________________________________\n",
            "max_pooling2d_1 (MaxPooling2 (None, 7, 7, 128)         0         \n",
            "_________________________________________________________________\n",
            "dropout_1 (Dropout)          (None, 7, 7, 128)         0         \n",
            "_________________________________________________________________\n",
            "batch_normalization_2 (Batch (None, 7, 7, 128)         512       \n",
            "_________________________________________________________________\n",
            "conv2d_2 (Conv2D)            (None, 7, 7, 256)         819456    \n",
            "_________________________________________________________________\n",
            "max_pooling2d_2 (MaxPooling2 (None, 3, 3, 256)         0         \n",
            "_________________________________________________________________\n",
            "dropout_2 (Dropout)          (None, 3, 3, 256)         0         \n",
            "_________________________________________________________________\n",
            "flatten (Flatten)            (None, 2304)              0         \n",
            "_________________________________________________________________\n",
            "dense (Dense)                (None, 256)               590080    \n",
            "_________________________________________________________________\n",
            "activation (Activation)      (None, 256)               0         \n",
            "_________________________________________________________________\n",
            "dropout_3 (Dropout)          (None, 256)               0         \n",
            "_________________________________________________________________\n",
            "dense_1 (Dense)              (None, 10)                2570      \n",
            "_________________________________________________________________\n",
            "activation_1 (Activation)    (None, 10)                0         \n",
            "=================================================================\n",
            "Total params: 1,619,470\n",
            "Trainable params: 1,619,084\n",
            "Non-trainable params: 386\n",
            "_________________________________________________________________\n"
          ],
          "name": "stdout"
        }
      ]
    },
    {
      "cell_type": "markdown",
      "metadata": {
        "id": "a5wXyx5cecMt"
      },
      "source": [
        "#Verificar disponibilidad de GPU"
      ]
    },
    {
      "cell_type": "code",
      "metadata": {
        "colab": {
          "base_uri": "https://localhost:8080/"
        },
        "id": "9vTgeafTea0k",
        "outputId": "c27d6d68-2fe1-4051-ed7c-ed1b428f9008"
      },
      "source": [
        "nombre_gpu = tf.test.gpu_device_name()\r\n",
        "if nombre_gpu != '/device:GPU:0':\r\n",
        "  raise SystemError('GPU no encontrada')\r\n",
        "print('GPU encontrada: {}'.format(nombre_gpu))"
      ],
      "execution_count": 8,
      "outputs": [
        {
          "output_type": "stream",
          "text": [
            "GPU encontrada: /device:GPU:0\n"
          ],
          "name": "stdout"
        }
      ]
    },
    {
      "cell_type": "markdown",
      "metadata": {
        "id": "8Y0BWHUubdyn"
      },
      "source": [
        "# Entrenamiento de GPU\r\n",
        "\r\n",
        "\r\n"
      ]
    },
    {
      "cell_type": "code",
      "metadata": {
        "id": "gu5moOWRa0r5"
      },
      "source": [
        "modelo.compile(optimizer='adam',loss='sparse_categorical_crossentropy',metrics=['accuracy'])"
      ],
      "execution_count": 9,
      "outputs": []
    },
    {
      "cell_type": "code",
      "metadata": {
        "colab": {
          "base_uri": "https://localhost:8080/"
        },
        "id": "eyT5C8FgbciU",
        "outputId": "9e05fc93-5e9a-4406-cef2-5f03767da9b3"
      },
      "source": [
        "import timeit\r\n",
        "\r\n",
        "def entrenamiento_gpu():\r\n",
        "  with tf.device('/device:GPU:0'):\r\n",
        "    modelo.fit(X_train,Y_train, validation_data=(X_test,Y_test),batch_size=128, epochs=2,verbose=1)\r\n",
        "\r\n",
        "    return None\r\n",
        "\r\n",
        "gpu_time =timeit.timeit('entrenamiento_gpu()',number=1, setup = 'from __main__ import entrenamiento_gpu')\r\n"
      ],
      "execution_count": 11,
      "outputs": [
        {
          "output_type": "stream",
          "text": [
            "Epoch 1/2\n",
            "468/468 [==============================] - 8s 17ms/step - loss: 0.6906 - accuracy: 0.7786 - val_loss: 0.3692 - val_accuracy: 0.8777\n",
            "Epoch 2/2\n",
            "468/468 [==============================] - 8s 17ms/step - loss: 0.4021 - accuracy: 0.8593 - val_loss: 0.3525 - val_accuracy: 0.8802\n"
          ],
          "name": "stdout"
        }
      ]
    },
    {
      "cell_type": "code",
      "metadata": {
        "id": "zuL04oo-crHV",
        "colab": {
          "base_uri": "https://localhost:8080/"
        },
        "outputId": "7d40fb45-9e13-40e4-a415-352bd6f77f00"
      },
      "source": [
        "print('Tiempo de entrenamiento '+str(gpu_time) + ' segundos')"
      ],
      "execution_count": 12,
      "outputs": [
        {
          "output_type": "stream",
          "text": [
            "Tiempo de entrenamiento 15.818430895999995 segundos\n"
          ],
          "name": "stdout"
        }
      ]
    },
    {
      "cell_type": "code",
      "metadata": {
        "id": "kRijE4yOf77N"
      },
      "source": [
        ""
      ],
      "execution_count": null,
      "outputs": []
    }
  ]
}